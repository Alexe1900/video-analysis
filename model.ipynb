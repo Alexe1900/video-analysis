{
 "cells": [
  {
   "cell_type": "code",
   "execution_count": null,
   "id": "c8cd755f",
   "metadata": {
    "vscode": {
     "languageId": "plaintext"
    }
   },
   "outputs": [],
   "source": [
    "import torch\n",
    "import torch.optim as optim\n",
    "import torch.nn as nn\n",
    "import torch.nn.functional as nnf\n",
    "import torchvision as tv\n",
    "import torchvision.transforms.functional as trff\n",
    "from torch.utils.data import Dataset, DataLoader\n",
    "from torchsummary import summary\n",
    "\n",
    "import pandas as pd\n",
    "import os"
   ]
  },
  {
   "cell_type": "code",
   "execution_count": null,
   "id": "d4568308",
   "metadata": {
    "vscode": {
     "languageId": "plaintext"
    }
   },
   "outputs": [],
   "source": [
    "device = torch.device(\"cpu\")\n",
    "if (torch.cuda.is_available()):\n",
    "    print('cuda available')\n",
    "    device = torch.device(\"cuda\")"
   ]
  },
  {
   "cell_type": "code",
   "execution_count": null,
   "id": "ff5d741e",
   "metadata": {
    "vscode": {
     "languageId": "plaintext"
    }
   },
   "outputs": [],
   "source": [
    "class ImgDataset(Dataset):\n",
    "    def __init__(self, annotations_file, img_dir, transform=None):\n",
    "        self.img_labels = pd.read_csv(annotations_file, header=None)\n",
    "        self.img_dir = img_dir\n",
    "        self.transform = transform\n",
    "    \n",
    "    def __len__(self):\n",
    "        return len(self.img_labels)\n",
    "    \n",
    "    def __getitem__(self, idx):\n",
    "        img_path = os.path.join(self.img_dir, self.img_labels.iloc[idx, 0])\n",
    "        image = tv.io.decode_image(img_path).float() / 255.0\n",
    "        if image.shape[0] == 4:\n",
    "            image = image[:3, :, :]\n",
    "        \n",
    "        image = trff.resize(image, [128, 128])\n",
    "        image = (image - 0.5) / 0.5\n",
    "        \n",
    "        strLabel = str(self.img_labels.iloc[idx, 1])\n",
    "        while (len(strLabel) != 7):\n",
    "            strLabel += '0'\n",
    "\n",
    "        listLabel = [int(c) for c in strLabel]\n",
    "        label = torch.tensor(listLabel)\n",
    "\n",
    "        return image, label"
   ]
  },
  {
   "cell_type": "code",
   "execution_count": null,
   "id": "e9549b1f",
   "metadata": {
    "vscode": {
     "languageId": "plaintext"
    }
   },
   "outputs": [],
   "source": [
    "trainSet = ImgDataset('./DATASETS/ownSplit/labels/train.csv', './DATASETS/ownSplit/train')\n",
    "valSet = ImgDataset('./DATASETS/ownSplit/labels/val.csv', './DATASETS/ownSplit/val')\n",
    "\n",
    "trainLoad = DataLoader(\n",
    "    trainSet,\n",
    "    32,\n",
    "    True\n",
    ")\n",
    "\n",
    "valLoad = DataLoader(\n",
    "    valSet,\n",
    "    32,\n",
    "    True\n",
    ")"
   ]
  },
  {
   "cell_type": "code",
   "execution_count": null,
   "id": "4ec216d4",
   "metadata": {
    "vscode": {
     "languageId": "plaintext"
    }
   },
   "outputs": [],
   "source": [
    "class NeuralNet(nn.Module):\n",
    "    def __init__(self):\n",
    "        super().__init__()\n",
    "\n",
    "        self.conv1 = nn.Conv2d(3, 32, 3, padding=1)\n",
    "        self.conv2 = nn.Conv2d(32, 64, 3, padding=1)\n",
    "        self.conv3 = nn.Conv2d(64, 128, 3, padding=1)\n",
    "\n",
    "        self.pool = nn.MaxPool2d(2, stride=2)\n",
    "\n",
    "        self.fc1 = nn.Linear(16 * 16 * 128, 512)\n",
    "        self.fc2 = nn.Linear(512, 28)\n",
    "    \n",
    "    def forward(self, x):\n",
    "        x = self.pool(nnf.relu(self.conv1(x)))\n",
    "        x = self.pool(nnf.relu(self.conv2(x)))\n",
    "        x = self.pool(nnf.relu(self.conv3(x)))\n",
    "\n",
    "        x = torch.flatten(x, 1)\n",
    "\n",
    "        x = nnf.relu(self.fc1(x))\n",
    "        x = nnf.relu(self.fc2(x))\n",
    "\n",
    "        x = x.view(-1, 4, 7)\n",
    "        x = nnf.softmax(x, 2)\n",
    "\n",
    "        return x"
   ]
  },
  {
   "cell_type": "code",
   "execution_count": null,
   "id": "1a4903ad",
   "metadata": {
    "vscode": {
     "languageId": "plaintext"
    }
   },
   "outputs": [],
   "source": [
    "net = NeuralNet()\n",
    "net.to(device)\n",
    "\n",
    "lossF = nn.CrossEntropyLoss()\n",
    "optimizer = optim.Adam(net.parameters(), lr=0.001)\n",
    "\n",
    "epochs = 100\n",
    "for epoch in range(epochs):\n",
    "    runningLoss = 0.0\n",
    "\n",
    "    for i, data in enumerate(trainLoad):\n",
    "        inputs, labels = data[0].to(device), data[1].to(device)\n",
    "\n",
    "        optimizer.zero_grad()\n",
    "        outputs = net(inputs)\n",
    "        loss = lossF(outputs, labels)\n",
    "\n",
    "        loss.backward()\n",
    "        optimizer.step()\n",
    "\n",
    "        runningLoss += loss.item()\n",
    "\n",
    "        if (i % 10 == 9):\n",
    "            print(f'[{epoch + 1}/{epochs}, {i + 1:5d}] loss: {runningLoss / 10:.3f}')\n",
    "            runningLoss = 0.0\n",
    "        else: print(f'[{epoch + 1}/{epochs}, {i + 1:5d}]')"
   ]
  }
 ],
 "metadata": {
  "language_info": {
   "name": "python"
  }
 },
 "nbformat": 4,
 "nbformat_minor": 5
}
